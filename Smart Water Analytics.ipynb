{
 "cells": [
  {
   "cell_type": "markdown",
   "metadata": {},
   "source": [
    "# SMART WATER ANALYTICS - TEAM 4 INTERNS - EXPLORE AI\n",
    "\n",
    "##### A PROJECT ON WATER AVAILABILITY MANAGEMENT"
   ]
  },
  {
   "cell_type": "markdown",
   "metadata": {},
   "source": [
    "### Team Members\n",
    "\n",
    "#### Viwe Mqaqa                             | South Africa | viwe@explore-datascience.net | Supervisor\n",
    "\n",
    "##### Oreoluwa Onyekachi Olaiya  | Nigeria | olaiyaoreoluwa3@gmail.com\n",
    "##### Christian Divinefavour           | Nigeria | contact.christiandivinefavour@gmail.com\n",
    "##### Gabriel Asiegbu                      | Nigeria | gwap2@live.com\n",
    "##### Titus Olang'                             | Kenya  | tityewanjohi@gmail.com\n",
    "##### Michael Kanu                          | Nigeria | michaelkanu01@yahoo.com\n",
    "##### Michael Omosebi                    | Nigeria | omosebimichael@live.com      "
   ]
  },
  {
   "cell_type": "markdown",
   "metadata": {},
   "source": [
    "## Project Overview\n",
    "\n",
    "The Acea Group is one of the leading Italian multiutility operators. Listed on the Italian Stock Exchange since 1999, the company manages and develops water and electricity networks and environmental services. Acea is the foremost Italian operator in the water services sector supplying 9 million inhabitants in Lazio, Tuscany, Umbria, Molise, Campania.\n",
    "\n",
    "This project focuses on the water sector to help Acea Group preserve precious waterbodies. As it is easy to imagine, a water supply company struggles with the need to forecast the water level in a waterbody (water spring, lake, river, or aquifer) to handle daily consumption. During fall and winter waterbodies are refilled, but during spring and summer they start to drain. To help preserve the health of these waterbodies it is important to predict the most efficient water availability, in terms of level and water flow for each day of the year.\n",
    "\n",
    "\n",
    "#### Kaggle Link: https://www.kaggle.com/competitions/acea-water-prediction\n",
    "\n",
    "## Objectives"
   ]
  },
  {
   "cell_type": "code",
   "execution_count": null,
   "metadata": {},
   "outputs": [],
   "source": []
  },
  {
   "cell_type": "code",
   "execution_count": null,
   "metadata": {},
   "outputs": [],
   "source": []
  }
 ],
 "metadata": {
  "kernelspec": {
   "display_name": "Python 3",
   "language": "python",
   "name": "python3"
  },
  "language_info": {
   "codemirror_mode": {
    "name": "ipython",
    "version": 3
   },
   "file_extension": ".py",
   "mimetype": "text/x-python",
   "name": "python",
   "nbconvert_exporter": "python",
   "pygments_lexer": "ipython3",
   "version": "3.7.1"
  }
 },
 "nbformat": 4,
 "nbformat_minor": 2
}
